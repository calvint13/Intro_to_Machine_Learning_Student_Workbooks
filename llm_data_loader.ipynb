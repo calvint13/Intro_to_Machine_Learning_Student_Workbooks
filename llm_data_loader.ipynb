{
 "cells": [
  {
   "cell_type": "code",
   "execution_count": null,
   "metadata": {},
   "outputs": [],
   "source": [
    "#!pip install pypdf\n",
    "#!pip install langchain\n",
    "#!pip install -U sentence-transformers\n",
    "#!pip install chromadb\n",
    "#!pip install GPT4All\n",
    "\n",
    "import os\n",
    "import sys\n",
    "import pandas as pd\n",
    "from langchain_community.document_loaders import PyPDFLoader\n",
    "import pypdf\n",
    "from langchain.embeddings import OpenAIEmbeddings\n",
    "from langchain.text_splitter import CharacterTextSplitter\n",
    "from langchain.text_splitter import RecursiveCharacterTextSplitter\n",
    "from langchain.embeddings import HuggingFaceEmbeddings\n",
    "from langchain.vectorstores import Chroma\n",
    "from langchain.chains import ConversationalRetrievalChain\n",
    "from langchain.memory import ConversationBufferMemory\n",
    "from langchain.llms import GPT4All\n",
    "import logging\n",
    "import sys\n",
    "\n",
    "logging.basicConfig(stream=sys.stdout, level=logging.INFO, format='%(asctime)s - %(levelname)s - %(message)s')\n"
   ]
  },
  {
   "cell_type": "code",
   "execution_count": null,
   "metadata": {},
   "outputs": [],
   "source": [
    "# define init index\n",
    "INIT_INDEX = os.getenv('INIT_INDEX', 'false').lower() == 'true'\n",
    "\n",
    "# vector index persist directory\n",
    "INDEX_PERSIST_DIRECTORY = os.getenv('INDEX_PERSIST_DIRECTORY', \"./data/chromadb\")\n",
    "\n",
    "# http api port\n",
    "HTTP_PORT = os.getenv('HTTP_PORT', 7654)\n",
    "\n",
    "# mongodb config host, username, password\n",
    "MONGO_HOST = os.getenv('MONGO_HOST', 'localhost')\n",
    "MONGO_PORT = os.getenv('MONGO_PORT', 27017)\n",
    "MONGO_USER = os.getenv('MONGO_USER', 'testuser')\n",
    "MONGO_PASS = os.getenv('MONGO_PASS', 'testpass')\n",
    "\n",
    "#global conversation\n",
    "#conversation = None"
   ]
  },
  {
   "cell_type": "markdown",
   "metadata": {},
   "source": [
    "# Build RAG Dataset"
   ]
  },
  {
   "cell_type": "code",
   "execution_count": null,
   "metadata": {},
   "outputs": [],
   "source": [
    "def recursive_PDF_loader(directory):\n",
    "    \"\"\"\n",
    "    Recursively list all PDF files in a directory.\n",
    "    \"\"\"\n",
    "    paths = []\n",
    "    for root, dirs, files in os.walk(directory):\n",
    "        for file in files:\n",
    "            if file.endswith(\".pdf\"):\n",
    "                path = os.path.join(root, file)\n",
    "                loader_PDF = PyPDFLoader(path)\n",
    "                #loader_PDF.load()\n",
    "                #print(len(loader_PDF))\n",
    "                paths.append(loader_PDF)\n",
    "    return paths\n",
    "    "
   ]
  },
  {
   "cell_type": "code",
   "execution_count": null,
   "metadata": {},
   "outputs": [
    {
     "data": {
      "text/plain": [
       "[<langchain_community.document_loaders.pdf.PyPDFLoader at 0x1076e2800>,\n",
       " <langchain_community.document_loaders.pdf.PyPDFLoader at 0x1076e25c0>,\n",
       " <langchain_community.document_loaders.pdf.PyPDFLoader at 0x1076e3c70>,\n",
       " <langchain_community.document_loaders.pdf.PyPDFLoader at 0x10770ccd0>,\n",
       " <langchain_community.document_loaders.pdf.PyPDFLoader at 0x10770d870>,\n",
       " <langchain_community.document_loaders.pdf.PyPDFLoader at 0x12c3db190>,\n",
       " <langchain_community.document_loaders.pdf.PyPDFLoader at 0x12c41dc00>,\n",
       " <langchain_community.document_loaders.pdf.PyPDFLoader at 0x12c41d420>,\n",
       " <langchain_community.document_loaders.pdf.PyPDFLoader at 0x12c41c400>,\n",
       " <langchain_community.document_loaders.pdf.PyPDFLoader at 0x12c41c5e0>,\n",
       " <langchain_community.document_loaders.pdf.PyPDFLoader at 0x12c41c4c0>,\n",
       " <langchain_community.document_loaders.pdf.PyPDFLoader at 0x12c41cf10>,\n",
       " <langchain_community.document_loaders.pdf.PyPDFLoader at 0x12c41dab0>,\n",
       " <langchain_community.document_loaders.pdf.PyPDFLoader at 0x12c41c9d0>,\n",
       " <langchain_community.document_loaders.pdf.PyPDFLoader at 0x12c41cf40>,\n",
       " <langchain_community.document_loaders.pdf.PyPDFLoader at 0x12c41d000>,\n",
       " <langchain_community.document_loaders.pdf.PyPDFLoader at 0x12c41cdc0>,\n",
       " <langchain_community.document_loaders.pdf.PyPDFLoader at 0x12c41c340>,\n",
       " <langchain_community.document_loaders.pdf.PyPDFLoader at 0x12c41c550>,\n",
       " <langchain_community.document_loaders.pdf.PyPDFLoader at 0x12c41ccd0>,\n",
       " <langchain_community.document_loaders.pdf.PyPDFLoader at 0x12c41d570>,\n",
       " <langchain_community.document_loaders.pdf.PyPDFLoader at 0x12c41c6a0>,\n",
       " <langchain_community.document_loaders.pdf.PyPDFLoader at 0x12c41c760>,\n",
       " <langchain_community.document_loaders.pdf.PyPDFLoader at 0x12c41d090>,\n",
       " <langchain_community.document_loaders.pdf.PyPDFLoader at 0x12c41d150>,\n",
       " <langchain_community.document_loaders.pdf.PyPDFLoader at 0x12c41d210>,\n",
       " <langchain_community.document_loaders.pdf.PyPDFLoader at 0x12c41d2d0>,\n",
       " <langchain_community.document_loaders.pdf.PyPDFLoader at 0x12c41d660>,\n",
       " <langchain_community.document_loaders.pdf.PyPDFLoader at 0x12c41dcf0>,\n",
       " <langchain_community.document_loaders.pdf.PyPDFLoader at 0x12c41d810>,\n",
       " <langchain_community.document_loaders.pdf.PyPDFLoader at 0x12c41d840>,\n",
       " <langchain_community.document_loaders.pdf.PyPDFLoader at 0x12c41dbd0>,\n",
       " <langchain_community.document_loaders.pdf.PyPDFLoader at 0x12c41d9c0>,\n",
       " <langchain_community.document_loaders.pdf.PyPDFLoader at 0x12c41db10>,\n",
       " <langchain_community.document_loaders.pdf.PyPDFLoader at 0x12c41cc40>,\n",
       " <langchain_community.document_loaders.pdf.PyPDFLoader at 0x12c41d4b0>,\n",
       " <langchain_community.document_loaders.pdf.PyPDFLoader at 0x12c41cbe0>,\n",
       " <langchain_community.document_loaders.pdf.PyPDFLoader at 0x12c41c850>,\n",
       " <langchain_community.document_loaders.pdf.PyPDFLoader at 0x12c41ce80>,\n",
       " <langchain_community.document_loaders.pdf.PyPDFLoader at 0x12c41caf0>,\n",
       " <langchain_community.document_loaders.pdf.PyPDFLoader at 0x12c41d5d0>,\n",
       " <langchain_community.document_loaders.pdf.PyPDFLoader at 0x12c41dde0>,\n",
       " <langchain_community.document_loaders.pdf.PyPDFLoader at 0x12c41dea0>,\n",
       " <langchain_community.document_loaders.pdf.PyPDFLoader at 0x12c41df60>,\n",
       " <langchain_community.document_loaders.pdf.PyPDFLoader at 0x12c41e020>,\n",
       " <langchain_community.document_loaders.pdf.PyPDFLoader at 0x12c41e0e0>,\n",
       " <langchain_community.document_loaders.pdf.PyPDFLoader at 0x12c41e1a0>,\n",
       " <langchain_community.document_loaders.pdf.PyPDFLoader at 0x12c41e260>,\n",
       " <langchain_community.document_loaders.pdf.PyPDFLoader at 0x12c41e320>,\n",
       " <langchain_community.document_loaders.pdf.PyPDFLoader at 0x12c41e3e0>,\n",
       " <langchain_community.document_loaders.pdf.PyPDFLoader at 0x12c41e4a0>,\n",
       " <langchain_community.document_loaders.pdf.PyPDFLoader at 0x12c41e560>,\n",
       " <langchain_community.document_loaders.pdf.PyPDFLoader at 0x12c41e620>,\n",
       " <langchain_community.document_loaders.pdf.PyPDFLoader at 0x12c41e6e0>,\n",
       " <langchain_community.document_loaders.pdf.PyPDFLoader at 0x12c41e7a0>,\n",
       " <langchain_community.document_loaders.pdf.PyPDFLoader at 0x12c41e860>,\n",
       " <langchain_community.document_loaders.pdf.PyPDFLoader at 0x12c41e920>,\n",
       " <langchain_community.document_loaders.pdf.PyPDFLoader at 0x12c41e9e0>,\n",
       " <langchain_community.document_loaders.pdf.PyPDFLoader at 0x12c41eaa0>,\n",
       " <langchain_community.document_loaders.pdf.PyPDFLoader at 0x12c41eb60>,\n",
       " <langchain_community.document_loaders.pdf.PyPDFLoader at 0x12c41ec20>,\n",
       " <langchain_community.document_loaders.pdf.PyPDFLoader at 0x12c41ece0>,\n",
       " <langchain_community.document_loaders.pdf.PyPDFLoader at 0x12c41eda0>,\n",
       " <langchain_community.document_loaders.pdf.PyPDFLoader at 0x12c41ee60>,\n",
       " <langchain_community.document_loaders.pdf.PyPDFLoader at 0x12c41ef20>,\n",
       " <langchain_community.document_loaders.pdf.PyPDFLoader at 0x12c41efe0>,\n",
       " <langchain_community.document_loaders.pdf.PyPDFLoader at 0x12c41f0a0>,\n",
       " <langchain_community.document_loaders.pdf.PyPDFLoader at 0x12c41f160>,\n",
       " <langchain_community.document_loaders.pdf.PyPDFLoader at 0x12c41f220>,\n",
       " <langchain_community.document_loaders.pdf.PyPDFLoader at 0x12c41f2e0>,\n",
       " <langchain_community.document_loaders.pdf.PyPDFLoader at 0x12c41f3a0>,\n",
       " <langchain_community.document_loaders.pdf.PyPDFLoader at 0x12c41f460>,\n",
       " <langchain_community.document_loaders.pdf.PyPDFLoader at 0x12c41f520>,\n",
       " <langchain_community.document_loaders.pdf.PyPDFLoader at 0x12c41f5e0>,\n",
       " <langchain_community.document_loaders.pdf.PyPDFLoader at 0x12c41f6a0>,\n",
       " <langchain_community.document_loaders.pdf.PyPDFLoader at 0x12c41f760>,\n",
       " <langchain_community.document_loaders.pdf.PyPDFLoader at 0x12c41f820>,\n",
       " <langchain_community.document_loaders.pdf.PyPDFLoader at 0x12c41f8e0>,\n",
       " <langchain_community.document_loaders.pdf.PyPDFLoader at 0x12c41f9a0>,\n",
       " <langchain_community.document_loaders.pdf.PyPDFLoader at 0x12c41fa60>,\n",
       " <langchain_community.document_loaders.pdf.PyPDFLoader at 0x12c41fb20>,\n",
       " <langchain_community.document_loaders.pdf.PyPDFLoader at 0x12c41fbe0>,\n",
       " <langchain_community.document_loaders.pdf.PyPDFLoader at 0x12c41fca0>,\n",
       " <langchain_community.document_loaders.pdf.PyPDFLoader at 0x12c41fd60>,\n",
       " <langchain_community.document_loaders.pdf.PyPDFLoader at 0x12c41fdf0>,\n",
       " <langchain_community.document_loaders.pdf.PyPDFLoader at 0x12c41fee0>]"
      ]
     },
     "execution_count": 4,
     "metadata": {},
     "output_type": "execute_result"
    }
   ],
   "source": [
    "base_folder = \"reference_content/Docs\"\n",
    "pdf_files = recursive_PDF_loader(base_folder)\n",
    "pdf_files "
   ]
  },
  {
   "cell_type": "code",
   "execution_count": null,
   "metadata": {},
   "outputs": [
    {
     "data": {
      "text/plain": [
       "<langchain_community.document_loaders.merge.MergedDataLoader at 0x10770dfc0>"
      ]
     },
     "execution_count": 5,
     "metadata": {},
     "output_type": "execute_result"
    }
   ],
   "source": [
    "from langchain_community.document_loaders.merge import MergedDataLoader\n",
    "\n",
    "loader_all = MergedDataLoader(loaders=pdf_files)\n",
    "loader_all"
   ]
  },
  {
   "cell_type": "code",
   "execution_count": null,
   "metadata": {},
   "outputs": [
    {
     "data": {
      "text/plain": [
       "5204"
      ]
     },
     "execution_count": 6,
     "metadata": {},
     "output_type": "execute_result"
    }
   ],
   "source": [
    "docs = loader_all.load()\n",
    "len(docs)"
   ]
  },
  {
   "cell_type": "code",
   "execution_count": null,
   "metadata": {},
   "outputs": [
    {
     "name": "stderr",
     "output_type": "stream",
     "text": [
      "/Users/akeem/anaconda3/envs/blank_tf/lib/python3.10/site-packages/tqdm/auto.py:21: TqdmWarning: IProgress not found. Please update jupyter and ipywidgets. See https://ipywidgets.readthedocs.io/en/stable/user_install.html\n",
      "  from .autonotebook import tqdm as notebook_tqdm\n",
      "Exception occurred invoking consumer for subscription 360e4b8a8f0f465396296d8c1e4e51c7to topic persistent://default/default/b13a069f-3226-442d-84d0-2a1567b02a8c 'utf-8' codec can't encode character '\\ud835' in position 834: surrogates not allowed\n",
      "Exception occurred invoking consumer for subscription 360e4b8a8f0f465396296d8c1e4e51c7to topic persistent://default/default/b13a069f-3226-442d-84d0-2a1567b02a8c 'utf-8' codec can't encode character '\\ud835' in position 36: surrogates not allowed\n",
      "Exception occurred invoking consumer for subscription 360e4b8a8f0f465396296d8c1e4e51c7to topic persistent://default/default/b13a069f-3226-442d-84d0-2a1567b02a8c 'utf-8' codec can't encode character '\\ud835' in position 530: surrogates not allowed\n",
      "Exception occurred invoking consumer for subscription 360e4b8a8f0f465396296d8c1e4e51c7to topic persistent://default/default/b13a069f-3226-442d-84d0-2a1567b02a8c 'utf-8' codec can't encode character '\\ud835' in position 218: surrogates not allowed\n",
      "Exception occurred invoking consumer for subscription 360e4b8a8f0f465396296d8c1e4e51c7to topic persistent://default/default/b13a069f-3226-442d-84d0-2a1567b02a8c 'utf-8' codec can't encode character '\\ud835' in position 425: surrogates not allowed\n",
      "Exception occurred invoking consumer for subscription 360e4b8a8f0f465396296d8c1e4e51c7to topic persistent://default/default/b13a069f-3226-442d-84d0-2a1567b02a8c 'utf-8' codec can't encode character '\\ud835' in position 257: surrogates not allowed\n",
      "Exception occurred invoking consumer for subscription 360e4b8a8f0f465396296d8c1e4e51c7to topic persistent://default/default/b13a069f-3226-442d-84d0-2a1567b02a8c 'utf-8' codec can't encode character '\\ud835' in position 713: surrogates not allowed\n",
      "Exception occurred invoking consumer for subscription 360e4b8a8f0f465396296d8c1e4e51c7to topic persistent://default/default/b13a069f-3226-442d-84d0-2a1567b02a8c 'utf-8' codec can't encode character '\\ud835' in position 902: surrogates not allowed\n",
      "Exception occurred invoking consumer for subscription 360e4b8a8f0f465396296d8c1e4e51c7to topic persistent://default/default/b13a069f-3226-442d-84d0-2a1567b02a8c 'utf-8' codec can't encode character '\\ud835' in position 68: surrogates not allowed\n",
      "Exception occurred invoking consumer for subscription 360e4b8a8f0f465396296d8c1e4e51c7to topic persistent://default/default/b13a069f-3226-442d-84d0-2a1567b02a8c 'utf-8' codec can't encode character '\\ud835' in position 207: surrogates not allowed\n",
      "Exception occurred invoking consumer for subscription 360e4b8a8f0f465396296d8c1e4e51c7to topic persistent://default/default/b13a069f-3226-442d-84d0-2a1567b02a8c 'utf-8' codec can't encode character '\\ud835' in position 552: surrogates not allowed\n",
      "Exception occurred invoking consumer for subscription 360e4b8a8f0f465396296d8c1e4e51c7to topic persistent://default/default/b13a069f-3226-442d-84d0-2a1567b02a8c 'utf-8' codec can't encode character '\\ud835' in position 628: surrogates not allowed\n",
      "Exception occurred invoking consumer for subscription 360e4b8a8f0f465396296d8c1e4e51c7to topic persistent://default/default/b13a069f-3226-442d-84d0-2a1567b02a8c 'utf-8' codec can't encode character '\\ud835' in position 18: surrogates not allowed\n",
      "Exception occurred invoking consumer for subscription 360e4b8a8f0f465396296d8c1e4e51c7to topic persistent://default/default/b13a069f-3226-442d-84d0-2a1567b02a8c 'utf-8' codec can't encode character '\\ud835' in position 256: surrogates not allowed\n",
      "Exception occurred invoking consumer for subscription 360e4b8a8f0f465396296d8c1e4e51c7to topic persistent://default/default/b13a069f-3226-442d-84d0-2a1567b02a8c 'utf-8' codec can't encode character '\\ud835' in position 117: surrogates not allowed\n",
      "Exception occurred invoking consumer for subscription 360e4b8a8f0f465396296d8c1e4e51c7to topic persistent://default/default/b13a069f-3226-442d-84d0-2a1567b02a8c 'utf-8' codec can't encode character '\\ud835' in position 812: surrogates not allowed\n",
      "Exception occurred invoking consumer for subscription 360e4b8a8f0f465396296d8c1e4e51c7to topic persistent://default/default/b13a069f-3226-442d-84d0-2a1567b02a8c 'utf-8' codec can't encode character '\\ud835' in position 0: surrogates not allowed\n",
      "Exception occurred invoking consumer for subscription 360e4b8a8f0f465396296d8c1e4e51c7to topic persistent://default/default/b13a069f-3226-442d-84d0-2a1567b02a8c 'utf-8' codec can't encode character '\\ud835' in position 240: surrogates not allowed\n"
     ]
    }
   ],
   "source": [
    "# split text\n",
    "# this chunk_size and chunk_overlap effects to the prompt size\n",
    "# execeed promt size causes error `prompt size exceeds the context window size and cannot be processed`\n",
    "text_splitter = RecursiveCharacterTextSplitter(chunk_size=1000, chunk_overlap=200)\n",
    "documents = text_splitter.split_documents(docs)\n",
    "# create embeddings with huggingface embedding model `all-MiniLM-L6-v2`\n",
    "# then persist the vector index on vector db\n",
    "embeddings = HuggingFaceEmbeddings(model_name=\"all-MiniLM-L6-v2\")\n",
    "vectordb = Chroma.from_documents(\n",
    "    documents=documents,\n",
    "    embedding=embeddings,\n",
    "    persist_directory=INDEX_PERSIST_DIRECTORY\n",
    ")\n",
    "vectordb.persist()\n"
   ]
  },
  {
   "cell_type": "code",
   "execution_count": null,
   "metadata": {},
   "outputs": [
    {
     "data": {
      "text/plain": [
       "'\\ndef init_conversation():\\n    global conversation\\n\\n    # load index\\n    embeddings = HuggingFaceEmbeddings(model_name=\"all-MiniLM-L6-v2\")\\n    vectordb = Chroma(persist_directory=INDEX_PERSIST_DIRECTORY,embedding_function=embeddings)\\n\\n    # create conversation\\n    llm = GPT4All(\\n        model=\"nous-hermes-llama2-13b.Q4_0.gguf\",\\n        verbose=True,\\n    )\\n    conversation = ConversationalRetrievalChain.from_llm(\\n        llm,\\n        retriever=vectordb.as_retriever(),\\n        return_source_documents=True,\\n        verbose=True,\\n    )\\n\\n\\ndef chat(question, user_id):\\n    global conversation\\n\\n    chat_history = []\\n    response = conversation({\"question\": question, \"chat_history\": chat_history})\\n    answer = response[\\'answer\\']\\n\\n    logging.info(\"got response from llm - %s\", answer)\\n\\n    # TODO save history\\n\\n    return answer\\n'"
      ]
     },
     "execution_count": 8,
     "metadata": {},
     "output_type": "execute_result"
    }
   ],
   "source": [
    "'''\n",
    "def init_conversation():\n",
    "    global conversation\n",
    "\n",
    "    # load index\n",
    "    embeddings = HuggingFaceEmbeddings(model_name=\"all-MiniLM-L6-v2\")\n",
    "    vectordb = Chroma(persist_directory=INDEX_PERSIST_DIRECTORY,embedding_function=embeddings)\n",
    "\n",
    "    # create conversation\n",
    "    llm = GPT4All(\n",
    "        model=\"nous-hermes-llama2-13b.Q4_0.gguf\",\n",
    "        verbose=True,\n",
    "    )\n",
    "    conversation = ConversationalRetrievalChain.from_llm(\n",
    "        llm,\n",
    "        retriever=vectordb.as_retriever(),\n",
    "        return_source_documents=True,\n",
    "        verbose=True,\n",
    "    )\n",
    "\n",
    "\n",
    "def chat(question, user_id):\n",
    "    global conversation\n",
    "\n",
    "    chat_history = []\n",
    "    response = conversation({\"question\": question, \"chat_history\": chat_history})\n",
    "    answer = response['answer']\n",
    "\n",
    "    logging.info(\"got response from llm - %s\", answer)\n",
    "\n",
    "    # TODO save history\n",
    "\n",
    "    return answer\n",
    "'''"
   ]
  },
  {
   "cell_type": "code",
   "execution_count": null,
   "metadata": {},
   "outputs": [],
   "source": [
    "def init_conversation():\n",
    "    #lobal conversation\n",
    "\n",
    "    # load index\n",
    "    embeddings = HuggingFaceEmbeddings(model_name=\"all-MiniLM-L6-v2\")\n",
    "    vectordb = Chroma(persist_directory=INDEX_PERSIST_DIRECTORY,embedding_function=embeddings)\n",
    "\n",
    "    # create conversation\n",
    "    llm = GPT4All(\n",
    "        #model=\"nous-hermes-llama2-13b.Q4_0.gguf\",\n",
    "        model=\"nous-hermes-llama2-13b.Q2_K.gguf\",\n",
    "        verbose=True,\n",
    "    )\n",
    "    conversation = ConversationalRetrievalChain.from_llm(\n",
    "        llm,\n",
    "        retriever=vectordb.as_retriever(),\n",
    "        return_source_documents=True,\n",
    "        verbose=True,\n",
    "    )\n",
    "    return conversation\n",
    "\n",
    "\n",
    "def chat(question, user_id, conversation):\n",
    "    #global conversation\n",
    "\n",
    "    chat_history = []\n",
    "    response = conversation({\"question\": question, \"chat_history\": chat_history})\n",
    "    answer = response['answer']\n",
    "\n",
    "    logging.info(\"got response from llm - %s\", answer)\n",
    "\n",
    "    # TODO save history\n",
    "\n",
    "    return answer\n"
   ]
  },
  {
   "cell_type": "code",
   "execution_count": null,
   "metadata": {},
   "outputs": [],
   "source": [
    "#import os\n",
    "#import wget\n",
    "#mod_path = '/Users/akeem/.cache/gpt4all/nous-hermes-llama2-13b.Q4_0.gguf'\n",
    "#if not os.path.exists(mod_path):\n",
    "#    wget.download('https://huggingface.co/TheBloke/Nous-Hermes-Llama2-GGUF/blob/main/nous-hermes-llama2-13b.Q4_0.gguf', mod_path)\n"
   ]
  },
  {
   "cell_type": "code",
   "execution_count": null,
   "metadata": {},
   "outputs": [
    {
     "ename": "",
     "evalue": "",
     "output_type": "error",
     "traceback": [
      "\u001b[1;31mThe Kernel crashed while executing code in the the current cell or a previous cell. Please review the code in the cell(s) to identify a possible cause of the failure. Click <a href='https://aka.ms/vscodeJupyterKernelCrash'>here</a> for more info. View Jupyter <a href='command:jupyter.viewOutput'>log</a> for further details."
     ]
    }
   ],
   "source": [
    "conversation = init_conversation()\n",
    "#print(vector_db.get_vector(\"What is an embedding?\"))\n",
    "#conversation = chat(\"What is an embedding?\", \"user1\", conversation)\n",
    "#print(resp)"
   ]
  }
 ],
 "metadata": {
  "kernelspec": {
   "display_name": "blank_tf",
   "language": "python",
   "name": "python3"
  },
  "language_info": {
   "codemirror_mode": {
    "name": "ipython",
    "version": 3
   },
   "file_extension": ".py",
   "mimetype": "text/x-python",
   "name": "python",
   "nbconvert_exporter": "python",
   "pygments_lexer": "ipython3",
   "version": "3.10.13"
  }
 },
 "nbformat": 4,
 "nbformat_minor": 2
}
