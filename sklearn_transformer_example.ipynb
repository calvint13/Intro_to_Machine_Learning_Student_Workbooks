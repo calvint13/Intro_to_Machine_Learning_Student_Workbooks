{
 "cells": [
  {
   "cell_type": "code",
   "execution_count": 1,
   "metadata": {},
   "outputs": [],
   "source": [
    "from sklearn.pipeline import Pipeline\n"
   ]
  },
  {
   "cell_type": "code",
   "execution_count": 2,
   "metadata": {},
   "outputs": [],
   "source": [
    "from sklearn.base import BaseEstimator, TransformerMixin\n",
    "from sklearn.feature_extraction.text import TfidfVectorizer\n",
    "from sklearn.cluster import KMeans\n",
    "\n",
    "class TextClusterTransformer(BaseEstimator, TransformerMixin):\n",
    "    def __init__(self, n_clusters=5):\n",
    "        self.n_clusters = n_clusters\n",
    "        self.vectorizer = TfidfVectorizer() # This will generate the representation of the text. \n",
    "        self.model = KMeans(n_clusters=n_clusters) # This will group the text into clusters, based on the representation.\n",
    "\n",
    "    def fit(self, X, y=None):\n",
    "        tfidf = self.vectorizer.fit_transform(X)\n",
    "        self.model.fit(tfidf)\n",
    "        return self\n",
    "\n",
    "    def transform(self, X, y=None):\n",
    "        tfidf = self.vectorizer.transform(X)\n",
    "        clusters = self.model.predict(tfidf)\n",
    "        return clusters\n",
    "\n",
    "# Example usage:\n",
    "# pipeline = Pipeline(steps=[('t', TextClusterTransformer()), ('m', SomeModel())])\n",
    "# pipeline.fit(X_train, y_train)"
   ]
  }
 ],
 "metadata": {
  "kernelspec": {
   "display_name": "ml_2",
   "language": "python",
   "name": "python3"
  },
  "language_info": {
   "codemirror_mode": {
    "name": "ipython",
    "version": 3
   },
   "file_extension": ".py",
   "mimetype": "text/x-python",
   "name": "python",
   "nbconvert_exporter": "python",
   "pygments_lexer": "ipython3",
   "version": "3.10.9"
  }
 },
 "nbformat": 4,
 "nbformat_minor": 2
}
